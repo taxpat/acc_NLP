{
 "cells": [
  {
   "cell_type": "markdown",
   "metadata": {},
   "source": [
    "# Methods and Objectives\n",
    "\n",
    "Modern methods in textual analysis for financial research are expanding quickly and becoming increasingly complex. The greater adoption of Machine Learning and the introduction of Large Language Models has dramatically changed what can be done with text data. "
   ]
  }
 ],
 "metadata": {
  "language_info": {
   "name": "python"
  }
 },
 "nbformat": 4,
 "nbformat_minor": 2
}
