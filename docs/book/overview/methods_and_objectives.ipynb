{
 "cells": [
  {
   "cell_type": "markdown",
   "metadata": {},
   "source": [
    "# Methods and Objectives\n",
    "\n",
    "We first look to a survey paper published in 2016 by Loughran and McDonald. They lay an excellent foundation for the state of textual analysis prior to 2016, which will be the benchmark for this section of the book. This section will be broken down into two groups: 1, methods and objectives prior to 2016, and 2, methods and objectives 2016 and beyond."
   ]
  },
  {
   "cell_type": "markdown",
   "metadata": {},
   "source": [
    "## Methods and Objectives, Prior to 2016\n",
    "\n",
    "In some regards, this section will be a review of Laughran and McDonald (2016). The following subsections follow the subsections their paper. Demonstrations, examples, and modern-day commentary will be added. "
   ]
  },
  {
   "cell_type": "markdown",
   "metadata": {},
   "source": [
    "### 2. Information Content, Document Structure, and Readability"
   ]
  },
  {
   "cell_type": "markdown",
   "metadata": {},
   "source": [
    "### 3. Bag-of-Word Methods and the Term-Document Matrix"
   ]
  },
  {
   "cell_type": "markdown",
   "metadata": {},
   "source": [
    "### 4. Document Narrative"
   ]
  },
  {
   "cell_type": "markdown",
   "metadata": {},
   "source": [
    "### 5. Measuring Document Similarity"
   ]
  },
  {
   "cell_type": "markdown",
   "metadata": {},
   "source": [
    "### 6. Implementation: Tripwires, Technology, and a Simple Example"
   ]
  },
  {
   "cell_type": "markdown",
   "metadata": {},
   "source": [
    "### 7. Areas for Future Research in Textual Analysis"
   ]
  },
  {
   "cell_type": "markdown",
   "metadata": {},
   "source": [
    "## Methods and Objectives, 2016 and Beyond\n",
    "\n",
    "This section starts where the last one ends. "
   ]
  }
 ],
 "metadata": {
  "language_info": {
   "name": "python"
  }
 },
 "nbformat": 4,
 "nbformat_minor": 2
}
