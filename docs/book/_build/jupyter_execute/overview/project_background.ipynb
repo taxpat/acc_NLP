{
 "cells": [
  {
   "cell_type": "markdown",
   "metadata": {},
   "source": [
    "# Project Background\n",
    "\n",
    "I had read a few accounting papers that used natural language processing, a methodology and research area combination that I found interesting. This interest led me to taking a class in text analysis. From week 1, we were to start brainstorming a final project idea—something that could be a useful tool or project. Wanting to be an accounting researcher, I wanted to create something that could support accounting PhDs in their research. With this goal in mind, where was I to begin? \n",
    "\n",
    "With a limited knowledge of NLP, both in techniques and in use-cases, I began considering broad objectives and potential datasets for accounting research. Of course we have disclosures, 10-k footnotes, and earning announcements and other meeting transcripts, but what other data was out there and what could be done with it?\n",
    "\n",
    "This question and these circumstances lead to the creation of this project and the associated GitHub repository. \n",
    "\n",
    "I hope this project will be a support for researchers considering using NLP in their research. I will provide code, training datasets, and thoughtful commentary for researchers to consider in their work. The goal is for researchers to have more confidence and be able to substantially reduce the amount of time it takes to do meaningful text analysis for accounting research. \n"
   ]
  }
 ],
 "metadata": {
  "language_info": {
   "codemirror_mode": {
    "name": "ipython",
    "version": 3
   },
   "file_extension": ".py",
   "mimetype": "text/x-python",
   "name": "python",
   "nbconvert_exporter": "python",
   "pygments_lexer": "ipython3",
   "version": "3.11.4"
  }
 },
 "nbformat": 4,
 "nbformat_minor": 2
}