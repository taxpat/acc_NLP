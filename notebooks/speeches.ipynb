{
 "cells": [
  {
   "cell_type": "code",
   "execution_count": 22,
   "metadata": {},
   "outputs": [],
   "source": [
    "import PyPDF2\n",
    "import pandas as pd\n",
    "import re  # For regular expressions\n",
    "import string  # For string operations and punctuation removal\n",
    "from nltk.tokenize import word_tokenize  # For word tokenization\n",
    "from nltk.corpus import stopwords  # For stop words\n",
    "from nltk.stem import WordNetLemmatizer  # For word lemmatization\n",
    "lemmatizer = WordNetLemmatizer()\n"
   ]
  },
  {
   "cell_type": "code",
   "execution_count": 23,
   "metadata": {},
   "outputs": [],
   "source": [
    "pdf_files = [\"data\\speeches\\Trump.pdf\", \n",
    "             \"data\\speeches\\Obama.pdf\", \n",
    "             \"data\\speeches\\Bush.pdf\",\n",
    "             \"data\\speeches\\Biden.pdf\"]  # Replace with your list of PDF files\n",
    "\n",
    "pdf_texts = []  # List to store the text from each PDF\n",
    "\n",
    "for pdf_file_path in pdf_files:\n",
    "    pdf_file = open(pdf_file_path, \"rb\")\n",
    "\n",
    "    pdf_reader = PyPDF2.PdfReader(pdf_file)\n",
    "\n",
    "    num_pages = len(pdf_reader.pages)\n",
    "\n",
    "    pdf_text = \"\"  # String to store the text from the current PDF\n",
    "\n",
    "    for page_num in range(num_pages):\n",
    "        page = pdf_reader.pages[page_num]\n",
    "        page_text = page.extract_text()\n",
    "        pdf_text += page_text  # Append the page text to the PDF text\n",
    "\n",
    "    pdf_texts.append(pdf_text)  # Append the PDF text to the list\n",
    "\n",
    "    pdf_file.close()"
   ]
  },
  {
   "cell_type": "code",
   "execution_count": 24,
   "metadata": {},
   "outputs": [
    {
     "name": "stdout",
     "output_type": "stream",
     "text": [
      "[\"Trump  \\n01/20/2017  \\nInaugural Address  \\nChief Justice Roberts, President Carter, President Clinton, President Bush, President Obama, \\nfellow Americans, and people of the world: thank you.  \\nWe, the citizens of America, are now joined in a great national effort to rebuild our country and \\nto restore its promise for all of our people.  \\nTogether, we will determine the course of America and the world for years to come.  \\nWe will face challenges. We will confront hardships. But we will get the job done.  \\nEvery four years, we gather on these steps to carry out the orderly and peaceful transfer of \\npower, and we are grateful to President Obama and First Lady Michelle Obama for their gracious \\naid throughout this transition. They have been magnificent.  \\nToday’s ceremony, however, has very special meaning. Because today we are not merely \\ntransferring power from one Administration to another, or from one party to another – but we are \\ntransferring power from Washington, D.C. and giving it back to you, the American P eople.  \\nFor too long, a small group in our nation’s Capital has reaped the rewards of government while \\nthe people have borne the cost.  \\nWashington flourished – but the people did not share in its wealth.  \\nPoliticians prospered – but the jobs left, and the fac tories closed.  \\nThe establishment protected itself, but not the citizens of our country.  \\nTheir victories have not been your victories; their triumphs have not been your triumphs; and \\nwhile they celebrated in our nation’s Capital, there was little to celebra te for struggling families \\nall across our land.  \\nThat all changes – starting right here, and right now, because this moment is your moment: it \\nbelongs to you.  \\nIt belongs to everyone gathered here today and everyone watching all across America.   \\nThis is your  day. This is your celebration.  \\nAnd this, the United States of America, is your country.  What truly matters is not which party controls our government, but whether our government is \\ncontrolled by the people.  \\nJanuary 20th 2017, will be remembered as the day  the people became the rulers of this nation \\nagain.   \\nThe forgotten men and women of our country will be forgotten no longer.  \\nEveryone is listening to you now.  \\nYou came by the tens of millions to become part of a historic movement the likes of which the \\nworld has never seen before.  \\nAt the center of this movement is a crucial conviction: that a nation exists to serve its citizens.  \\nAmericans want great schools for their children, safe neighborhoods for their families, and good \\njobs for themselves.  \\nThese are th e just and reasonable demands of a righteous public.  \\nBut for too many of our citizens, a different reality exists: Mothers and children trapped in \\npoverty in our inner cities; rusted -out factories scattered like tombstones across the landscape of \\nour natio n; an education system, flush with cash, but which leaves our young and beautiful \\nstudents deprived of knowledge; and the crime and gangs and drugs that have stolen too many \\nlives and robbed our country of so much unrealized potential.  \\nThis American carnag e stops right here and stops right now.  \\nWe are one nation – and their pain is our pain.   Their dreams are our dreams; and their success \\nwill be our success.   We share one heart, one home, and one glorious destiny.  \\nThe oath of office I take today is an oath  of allegiance to all Americans.  \\nFor many decades, we’ve enriched foreign industry at the expense of American industry;  \\nSubsidized the armies of other countries while allowing for the very sad depletion of our \\nmilitary;  \\nWe've defended other nation’s border s while refusing to defend our own;  \\nAnd spent trillions of dollars overseas while America's infrastructure has fallen into disrepair and \\ndecay.  \\nWe’ve made other countries rich while the wealth, strength, and confidence of our country has \\ndisappeared over t he horizon.  One by one, the factories shuttered and left our shores, with not even a thought about the \\nmillions upon millions of American workers left behind.  \\nThe wealth of our middle class has been ripped from their homes and then redistributed across \\nthe entire worl d. \\nBut that is the past. And now we are looking only to the future.  \\nWe assembled here today are issuing a new decree to be heard in every city, in every foreign \\ncapital, and in every hall of power.  \\nFrom this day forward, a new vision will govern our land.  \\nFrom this moment on, it’s going to be America First.  \\nEvery decision on trade, on taxes, on immigration, on foreign affairs, will be made to benefit \\nAmerican workers and American families.  \\nWe must protect our borders from the ravages of other countries maki ng our products, stealing \\nour companies, and destroying our jobs.   Protection will lead to great prosperity and strength.  \\nI will fight for you with every breath in my body – and I will never, ever let you down.  \\nAmerica will start winning again, winning lik e never before.  \\nWe will bring back our jobs. We will bring back our borders.   We will bring back our \\nwealth.   And we will bring back our dreams.  \\nWe will build new roads, and highways, and bridges, and airports, and tunnels, and railways all \\nacross our wond erful nation.  \\nWe will get our people off of welfare and back to work – rebuilding our country with American \\nhands and American labor.  \\nWe will follow two simple rules: Buy American and Hire American.  \\nWe will seek friendship and goodwill with the nations of the world – but we do so with the \\nunderstanding that it is the right of all nations to put their own interests first.  \\nWe do not seek to impose our way of life on anyone, but rather to let it shine as an example for \\neveryone to follow.  \\nWe will reinforce old  alliances and form new ones – and unite the civilized world against \\nRadical Islamic Terrorism, which we will eradicate completely from the face of the Earth.  At the bedrock of our politics will be a total allegiance to the United States of America, and \\nthrough our loyalty to our country, we will rediscover our loyalty to each other.  \\nWhen you open your heart to patriotism, there is no room for prejudice.  \\nThe Bible tells us, “how good and pleasant it is when God’s people live together in unity.”  \\nWe must spea k our minds openly, debate our disagreements honestly, but always pursue \\nsolidarity.  \\nWhen America is united, America is totally unstoppable.  \\nThere should be no fear – we are protected, and we will always be protected.  \\nWe will be protected by the great men and women of our military and law enforcement and, \\nmost importantly, we are protected by God.  \\nFinally, we must think big and dream even bigger.  \\nIn America, we understand that a nation is only living as long as it is striving.  \\nWe will no longer accept polit icians who are all talk and no action – constantly complaining but \\nnever doing anything about it.  \\nThe time for empty talk is over.  \\nNow arrives the hour of action.  \\nDo not let anyone tell you it cannot be done.   No challenge can match the heart and fight and \\nspirit of America.  \\nWe will not fail. Our country will thrive and prosper again.  \\nWe stand at the birth of a new millennium, ready to unlock the mysteries of space,  to free the \\nEarth from the miseries of disease, and to harness the energies, industries and technologies of \\ntomorrow.  \\nA new national pride will stir our souls, lift our sights, and heal our divisions.  \\nIt is time to remember that old wisdom our soldiers wi ll never forget: that whether we are black \\nor brown or white, we all bleed the same red blood of patriots, we all enjoy the same glorious \\nfreedoms, and we all salute the same great American Flag.  \\nAnd whether a child is born in the urban sprawl of Detroit o r the windswept plains of Nebraska, \\nthey look up at the same night sky, they fill their heart with the same dreams, and they are \\ninfused with the breath of life by the same almighty Creator.  So to all Americans, in every city near and far, small and large,  from mountain to mountain, and \\nfrom ocean to ocean, hear these words:  \\nYou will never be ignored again.  \\nYour voice, your hopes, and your dreams, will define our American destiny. And your courage \\nand goodness and love will forever guide us along the way.  \\nTogether, We Will Make America Strong Again.  \\nWe Will Make America Wealthy Again.  \\nWe Will Make America Proud Again.  \\nWe Will Make America Safe Again.  \\nAnd, Yes, Together, We Will Make America Great Again. Thank you, God Bless You, And God \\nBless America.  \\n \", 'Obam a \\n01/20/2009  \\nInaugural Address  \\n \\nI stand here today humbled by the task before us, grateful for the trust you have \\nbestowed, mindful of the sacrific es borne by our ancestors. I thank President Bush for \\nhis service to our nation, as well as the generosity and cooperation he has shown \\nthroughout this transition . \\nForty -four Americans have now taken the presidential oath. The words have been \\nspoken during  rising tides of prosperity and the still waters of peace. Yet, every so \\noften the oath is taken amidst gathering clouds and raging storms. At these moments, \\nAmerica has carried on not simply because of the skill or vision of those in high \\noffice, but beca use We the People have remained faithful to the ideals of our \\nforbearers, and true to our founding documents . \\nSo it has been. So it must be with this generation of Americans . \\nThat we are in the midst of crisis is now well understood. Our nation is at war, against \\na far-reaching network of violence and hatred. Our economy is badly weakened, a \\nconsequence of greed and irresponsibility on the part of some, but also our collective \\nfailure to make hard choices and prepare the nation for a new age. Homes have bee n \\nlost; jobs shed; businesses shuttered. Our health care is too costly; our schools fail too \\nmany; and each day brings further evidence that the ways we use energy strengthen \\nour adversaries and threaten our planet . \\nThese are the indicators of crisis, subj ect to data and statistics. Less measurable but no \\nless profound is a sapping of confidence across our land —a nagging fear that \\nAmerica\\'s decline is inevitable, and that the next generation must lower its sights . \\nToday I say to you that the challenges we f ace are real. They are serious and they are \\nmany. They will not be met easily or in a short span of time. But know this, \\nAmerica —they will be met . \\nOn this day, we gather because we have chosen hope over fear, unity of purpose over \\nconflict and discord . \\nOn this day, we come to proclaim an end to the petty grievances and false promises, \\nthe recriminations and worn out dogmas, that for far too long have strangled our \\npolitics . \\nWe remain a young nation, but in the words of Scripture, the time has come to set \\naside childish things. The time has come to reaffirm our enduring spirit; to choose our \\nbetter history; to carry forward that precious gift, that noble idea, passed on from generation to generation: the God -given promise that all are equal, all are free, and  all \\ndeserve a chance to pursue their full measure of happiness . \\nIn reaffirming the greatness of our nation, we understand that greatness is never a \\ngiven. It must be earned. Our journey has never been one of short -cuts or settling for \\nless. It has not bee n the path for the faint -hearted —for those who prefer leisure over \\nwork, or seek only the pleasures of riches and fame. Rather, it has been the risk -takers, \\nthe doers, the makers of things —some celebrated but more often men and women \\nobscure in their labor , who have carried us up the long, rugged path towards \\nprosperity and freedom . \\nFor us, they packed up their few worldly possessions and traveled across oceans in \\nsearch of a new life . \\nFor us, they toiled in sweatshops and settled the West; endured the lash  of the whip \\nand plowed the hard earth . \\nFor us, they fought and died, in places like Concord and Gettysburg; Normandy and \\nKhe Sahn . \\nTime and again these men and women struggled and sacrificed and worked till their \\nhands were raw so that we might live a bet ter life. They saw America as bigger than \\nthe sum of our individual ambitions; greater than all the differences of birth or wealth \\nor faction . \\nThis is the journey we continue today. We remain the most prosperous, powerful \\nnation on Earth. Our workers are n o less productive than when this crisis began. Our \\nminds are no less inventive, our goods and services no less needed than they were last \\nweek or last month or last year. Our capacity remains undiminished. But our time of \\nstanding pat, of protecting narrow  interests and putting off unpleasant decisions —that \\ntime has surely passed. Starting today, we must pick ourselves up, dust ourselves off, \\nand begin again the work of remaking America . \\nFor everywhere we look, there is work to be done. The state of the eco nomy calls for \\naction, bold and swift, and we will act —not only to create new jobs, but to lay a new \\nfoundation for growth. We will build the roads and bridges, the electric grids and \\ndigital lines that feed our commerce and bind us together. We will resto re science to \\nits rightful place, and wield technology\\'s wonders to raise health care\\'s quality and \\nlower its cost. We will harness the sun and the winds and the soil to fuel our cars and \\nrun our factories. And we will transform our schools and colleges an d universities to \\nmeet the demands of a new age. All this we can do. And all this we will do . \\nNow, there are some who question the scale of our ambitions —who suggest that our \\nsystem cannot tolerate too many big plans. Their memories are short. For they hav e \\nforgotten what this country has already done; what free men and women can achieve \\nwhen imagination is joined to common purpose, and necessity to courage . What the cynics fail to understand is that the ground has shifted beneath them —that \\nthe stale politi cal arguments that have consumed us for so long no longer apply. The \\nquestion we ask today is not whether our government is too big or too small, but \\nwhether it works —whether it helps families find jobs at a decent wage, care they can \\nafford, a retirement that is dignified. Where the answer is yes, we intend to move \\nforward. Where the answer is no, programs will end. And those of us who manage the \\npublic\\'s dollars will be held to account —to spend wisely, reform bad habits, and do \\nour business in the light o f day —because only then can we restore the vital trust \\nbetween a people and their government . \\nNor is the question before us whether the market is a force for good or ill. Its power to \\ngenerate wealth and expand freedom is unmatched, but this crisis has rem inded us that \\nwithout a watchful eye, the market can spin out of control —and that a nation cannot \\nprosper long when it favors only the prosperous. The success of our economy has \\nalways depended not just on the size of our Gross Domestic Product, but on the  reach \\nof our prosperity; on our ability to extend opportunity to every willing heart —not out \\nof charity, but because it is the surest route to our common good . \\nAs for our common defense, we reject as false the choice between our safety and our \\nideals. Our  Founding Fathers, faced with perils we can scarcely imagine, drafted a \\ncharter to assure the rule of law and the rights of man, a charter expanded by the blood \\nof generations. Those ideals still light the world, and we will not give them up for \\nexpedience \\'s sake. And so to all other peoples and governments who are watching \\ntoday, from the grandest capitals to the small village where my father was born: know \\nthat America is a friend of each nation and every man, woman, and child who seeks a \\nfuture of peace and dignity, and that we are ready to lead once more . \\nRecall that earlier generations faced down fascism and communism not just with \\nmissiles and tanks, but with sturdy alliances and enduring convictions. They \\nunderstood that our power alone cannot protect  us, nor does it entitle us to do as we \\nplease. Instead, they knew that our power grows through its prudent use; our security \\nemanates from the justness of our cause, the force of our example, the tempering \\nqualities of humility and restraint . \\nWe are the k eepers of this legacy. Guided by these principles once more, we can meet \\nthose new threats that demand even greater effort —even greater cooperation and \\nunderstanding between nations. We will begin to responsibly leave Iraq to its people, \\nand forge a hard -earned peace in Afghanistan. With old friends and former foes, we \\nwill work tirelessly to lessen the nuclear threat, and roll back the specter of a warming \\nplanet. We will not apologize for our way of life, nor will we waver in its defense, and \\nfor those wh o seek to advance their aims by inducing terror and slaughtering \\ninnocents, we say to you now that our spirit is stronger and cannot be broken; you cannot outlast us, and we will defeat you . \\nFor we know that our patchwork heritage is a strength, not a weak ness. We are a \\nnation of Christians and Muslims, Jews and Hindus and non -believers. We are shaped \\nby every language and culture, drawn from every end of this Earth; and because we \\nhave tasted the bitter swill of civil war and segregation, and emerged from that dark \\nchapter stronger and more united, we cannot help but believe that the old hatreds shall \\nsomeday pass; that the lines of tribe shall soon dissolve; that as the world grows \\nsmaller, our common humanity shall reveal itself; and that America must pla y its role \\nin ushering in a new era of peace . \\nTo the Muslim world, we seek a new way forward, based on mutual interest and \\nmutual respect. To those leaders around the globe who seek to sow conflict, or blame \\ntheir society\\'s ills on the West, know that your  people will judge you on what you can \\nbuild, not what you destroy. To those who cling to power through corruption and \\ndeceit and the silencing of dissent, know that you are on the wrong side of history; but \\nthat we will extend a hand if you are willing to  unclench your fist . \\nTo the people of poor nations, we pledge to work alongside you to make your farms \\nflourish and let clean waters flow; to nourish starved bodies and feed hungry minds. \\nAnd to those nations like ours that enjoy relative plenty, we say we  can no longer \\nafford indifference to suffering outside our borders; nor can we consume the world\\'s \\nresources without regard to effect. For the world has changed, and we must change \\nwith it . \\nAs we consider the road that unfolds before us, we remember with humble gratitude \\nthose brave Americans who, at this very hour, patrol far -off deserts and distant \\nmountains. They have something to tell us today, just as the fallen heroes who lie in \\nArlington whisper through the ages. We honor them not only because they are \\nguardians of our liberty, but because they embody the spirit of service; a willingness \\nto find meaning in something greater than themselves. And yet, at this moment —a \\nmoment that will define a generation —it is precisely this spirit that must inhabit us  \\nall. \\nFor as much as government can do and must do, it is ultimately the faith and \\ndetermination of the American people upon which this nation relies. It is the kindness \\nto take in a stranger when the levees break, the selflessness of workers who would \\nrather cut their hours than see a friend lose their job which sees us through our darkest \\nhours. It is the firefighter\\'s courage to storm a stairway filled with smoke, but also a \\nparent\\'s willingness to nurture a child, that finally decides our fate . \\nOur chal lenges may be new. The instruments with which we meet them may be new. \\nBut those values upon which our success depends —hard work and honesty, courage \\nand fair play, tolerance and curiosity, loyalty and patriotism —these things are old. These things are true . They have been the quiet force of progress throughout our \\nhistory. What is demanded then is a return to these truths. What is required of us now \\nis a new era of responsibility —a recognition, on the part of every American, that we \\nhave duties to ourselves , our nation, and the world, duties that we do not grudgingly \\naccept but rather seize gladly, firm in the knowledge that there is nothing so satisfying \\nto the spirit, so defining of our character, than giving our all to a difficult task . \\nThis is the price and the promise of citizenship . \\nThis is the source of our confidence —the knowledge that God calls on us to shape an \\nuncertain destiny . \\nThis is the meaning of our liberty and our creed —why men and women and children \\nof every race and every faith can join in  celebration across this magnificent mall, and \\nwhy a man whose father less than sixty years ago might not have been served at a \\nlocal restaurant can now stand before you to take a most sacred oath . \\nSo let us mark this day with remembrance, of who we are an d how far we have \\ntraveled. In the year of America\\'s birth, in the coldest of months, a small band of \\npatriots huddled by dying campfires on the shores of an icy river. The capital was \\nabandoned. The enemy was advancing. The snow was stained with blood. At  a \\nmoment when the outcome of our revolution was most in doubt, the father of our \\nnation ordered these words be read to the people : \\n\"Let it be told to the future world...that in the depth of winter, when nothing but hope \\nand virtue could survive...that the  city and the country, alarmed at one common \\ndanger, came forth to meet [it]. \" \\nAmerica. In the face of our common dangers, in this winter of our hardship, let us \\nremember these timeless words. With hope and virtue, let us brave once more the icy \\ncurrents, and endure what storms may come. Let it be said by our children\\'s children \\nthat when we were tested we refused to let this journey end, that we did not turn back \\nnor did we falter; and with eyes fixed on the horizon and God\\'s grace upon us, we \\ncarried fort h that great gift of freedom and delivered it safely to future generations . \\nThank you. God bless you. And may God bless the United States of America . ', 'Bush  \\n01/20/2001  \\nInaugural Address  \\n \\nPresident Clinton, distinguished guests and my fellow citizens, the peaceful transfer of \\nauthority is rare in history, yet common in our country. With a simple oath, w e affirm \\nold traditions and make new beginnings . \\nAs I begin, I thank President Clinton for his service to our nation . \\nAnd I thank Vice President Gore for a contest conducted with spirit and ended with \\ngrace . \\nI am honored and humbled to stand here, where so  many of America\\'s leaders have \\ncome before me, and so many will follow . \\nWe have a place, all of us, in a long story —a story we continue, but whose end we \\nwill not see. It is the story of a new world that became a friend and liberator of the \\nold, a story o f a slave -holding society that became a servant of freedom, the story of a \\npower that went into the world to protect but not possess, to defend but not to conquer . \\nIt is the American story —a story of flawed and fallible people, united across the \\ngeneration s by grand and enduring ideals . \\nThe grandest of these ideals is an unfolding American promise that everyone belongs, \\nthat everyone deserves a chance, that no insignificant person was ever born . \\nAmericans are called to enact this promise in our lives and in  our laws. And though \\nour nation has sometimes halted, and sometimes delayed, we must follow no other \\ncourse . \\nThrough much of the last century, America\\'s faith in freedom and democracy was a \\nrock in a raging sea. Now it is a seed upon the wind, taking root  in many nations . \\nOur democratic faith is more than the creed of our country, it is the inborn hope of our \\nhumanity, an ideal we carry but do not own, a trust we bear and pass along. And even \\nafter nearly 225 years, we have a long way yet to travel . \\nWhile many of our citizens prosper, others doubt the promise, even the justice, of our \\nown country. The ambitions of some Americans are limited by failing schools and \\nhidden prejudice and the circumstances of their birth. And sometimes our differences \\nrun so dee p, it seems we share a continent, but not a country . \\nWe do not accept this, and we will not allow it. Our unity, our union, is the serious \\nwork of leaders and citizens in every generation. And this is my solemn pledge: I will \\nwork to build a single nation of justice and opportunity . \\nI know this is in our reach because we are guided by a power larger than ourselves who creates us equal in His image . \\nAnd we are confident in principles that unite and lead us onward . \\nAmerica has never been united by blood or bi rth or soil. We are bound by ideals that \\nmove us beyond our backgrounds, lift us above our interests and teach us what it \\nmeans to be citizens. Every child must be taught these principles. Every citizen must \\nuphold them. And every immigrant, by embracing t hese ideals, makes our country \\nmore, not less, American . \\nToday, we affirm a new commitment to live out our nation\\'s promise through civility, \\ncourage, compassion and character . \\nAmerica, at its best, matches a commitment to principle with a concern for civi lity. A \\ncivil society demands from each of us good will and respect, fair dealing and \\nforgiveness . \\nSome seem to believe that our politics can afford to be petty because, in a time of \\npeace, the stakes of our debates appear small . \\nBut the stakes for America  are never small. If our country does not lead the cause of \\nfreedom, it will not be led. If we do not turn the hearts of children toward knowledge \\nand character, we will lose their gifts and undermine their idealism. If we permit our \\neconomy to drift and d ecline, the vulnerable will suffer most . \\nWe must live up to the calling we share. Civility is not a tactic or a sentiment. It is the \\ndetermined choice of trust over cynicism, of community over chaos. And this \\ncommitment, if we keep it, is a way to shared a ccomplishment . \\nAmerica, at its best, is also courageous . \\nOur national courage has been clear in times of depression and war, when defending \\ncommon dangers defined our common good. Now we must choose if the example of \\nour fathers and mothers will inspire us  or condemn us. We must show courage in a \\ntime of blessing by confronting problems instead of passing them on to future \\ngenerations . \\nTogether, we will reclaim America\\'s schools, before ignorance and apathy claim more \\nyoung lives . \\nWe will reform Social Secu rity and Medicare, sparing our children from struggles we \\nhave the power to prevent. And we will reduce taxes, to recover the momentum of our \\neconomy and reward the effort and enterprise of working Americans . \\nWe will build our defenses beyond challenge, le st weakness invite challenge . \\nWe will confront weapons of mass destruction, so that a new century is spared new \\nhorrors . \\nThe enemies of liberty and our country should make no mistake: America remains \\nengaged in the world by history and by choice, shaping a  balance of power that favors \\nfreedom. We will defend our allies and our interests. We will show purpose without arrogance. We will meet aggression and bad faith with resolve and strength. And to all \\nnations, we will speak for the values that gave our nati on birth . \\nAmerica, at its best, is compassionate. In the quiet of American conscience, we know \\nthat deep, persistent poverty is unworthy of our nation\\'s promise . \\nAnd whatever our views of its cause, we can agree that children at risk are not at fault. \\nAban donment and abuse are not acts of God, they are failures of love . \\nAnd the proliferation of prisons, however necessary, is no substitute for hope and \\norder in our souls . \\nWhere there is suffering, there is duty. Americans in need are not strangers, they are \\ncitizens, not problems, but priorities. And all of us are diminished when any are \\nhopeless . \\nGovernment has great responsibilities for public safety and public health, for civil \\nrights and common schools. Yet compassion is the work of a nation, not just a \\ngovernment . \\nAnd some needs and hurts are so deep they will only respond to a mentor\\'s touch or a \\npastor\\'s prayer. Church and charity, synagogue and mosque lend our communities \\ntheir humanity, and they will have an honored place in our plans and in our laws . \\nMany in our country do not know the pain of poverty, but we can listen to those who \\ndo. \\nAnd I can pledge our nation to a goal: When we see that wounded traveler on the road \\nto Jericho, we will not pass to the other side . \\nAmerica, at its best, is a place w here personal responsibility is valued and expected . \\nEncouraging responsibility is not a search for scapegoats, it is a call to conscience. \\nAnd though it requires sacrifice, it brings a deeper fulfillment. We find the fullness of \\nlife not only in options, but in commitments. And we find that children and \\ncommunity are the commitments that set us free . \\nOur public interest depends on private character, on civic duty and family bonds and \\nbasic fairness, on uncounted, unhonored acts of decency which give direct ion to our \\nfreedom . \\nSometimes in life we are called to do great things. But as a saint of our times has said, \\nevery day we are called to do small things with great love. The most important tasks \\nof a democracy are done by everyone . \\nI will live and lead by these principles: to advance my convictions with civility, to \\npursue the public interest with courage, to speak for greater justice and compassion, to \\ncall for responsibility and try to live it as well . \\nIn all these ways, I will bring the values of our history to the care of our times . \\nWhat you do is as important as anything government does. I ask you to seek a \\ncommon good beyond your comfort; to defend needed reforms against easy attacks; to serve your n ation, beginning with your neighbor. I ask you to be citizens: citizens, not \\nspectators; citizens, not subjects; responsible citizens, building communities of service \\nand a nation of character . \\nAmericans are generous and strong and decent, not because we b elieve in ourselves, \\nbut because we hold beliefs beyond ourselves. When this spirit of citizenship is \\nmissing, no government program can replace it. When this spirit is present, no wrong \\ncan stand against it . \\nAfter the Declaration of Independence was signe d, Virginia statesman John Page \\nwrote to Thomas Jefferson: \"We know the race is not to the swift nor the battle to the \\nstrong. Do you not think an angel rides in the whirlwind and directs this storm? \" \\nMuch time has passed since Jefferson arrived for his in auguration. The years and \\nchanges accumulate. But the themes of this day he would know: our nation\\'s grand \\nstory of courage and its simple dream of dignity . \\nWe are not this story\\'s author, who fills time and eternity with his purpose. Yet his \\npurpose is ac hieved in our duty, and our duty is fulfilled in service to one another . \\nNever tiring, never yielding, never finishing, we renew that purpose today, to make \\nour country more just and generous, to affirm the dignity of our lives and every life . \\nThis work co ntinues. This story goes on. And an angel still rides in the whirlwind and \\ndirects this storm . \\nGod bless you all, and God bless America . ', 'Biden  \\n01/20/2021  \\nInaugural Address  \\nChief Justice Roberts, Vice President Harris, Speaker Pelosi, Leader Schumer, Leader \\nMcConnell, Vice President Pence, distinguished guests, and my fellow Americans.  \\nThis is America’s day.  \\nThis is democracy’s day.  \\nA day of history and hope.  \\nOf renewal and r esolve.  \\nThrough a crucible for the ages America has been tested anew and America has risen to the \\nchallenge.  \\nToday, we celebrate the triumph not of a candidate, but of a cause, the cause of democracy.  \\nThe will of the people has been heard and the will of t he people has been heeded.  \\nWe have learned again that democracy is precious.  \\nDemocracy is fragile.  \\nAnd at this hour, my friends, democracy has prevailed.  \\nSo now, on this hallowed ground where just days ago violence sought to shake this Capitol’s \\nvery found ation, we come together as one nation, under God, indivisible, to carry out the \\npeaceful transfer of power as we have for more than two centuries.  \\nWe look ahead in our uniquely American way – restless, bold, optimistic – and set our sights on \\nthe nation we  know we can be and we must be.  \\nI thank my predecessors of both parties for their presence here.  \\nI thank them from the bottom of my heart.  \\nYou know the resilience of our Constitution and the strength of our nation.  \\nAs does President Carter, who I spoke to last night but who cannot be with us today, but whom \\nwe salute for his lifetime of service.  I have just taken the sacred oath each of these patriots took — an oath first sworn by George \\nWashington.  \\nBut the American story depends not on any one of us, not o n some of us, but on all of us.  \\nOn “We the People” who seek a more perfect Union.  \\nThis is a great nation and we are a good people.  \\nOver the centuries through storm and strife, in peace and in war, we have come so far. But we \\nstill have far to go.  \\nWe will p ress forward with speed and urgency, for we have much to do in this winter of peril and \\npossibility.  \\nMuch to repair.  \\nMuch to restore.  \\nMuch to heal.  \\nMuch to build.  \\nAnd much to gain.  \\nFew periods in our nation’s history have been more challenging or difficult than the one we’re in \\nnow.  \\nA once -in-a-century virus silently stalks the country.  \\nIt’s taken as many lives in one year as America lost in all of World War II.  \\nMillions of jobs have  been lost.  \\nHundreds of thousands of businesses closed.  \\nA cry for racial justice some 400 years in the making moves us. The dream of justice for all will \\nbe deferred no longer.  \\nA cry for survival comes from the planet itself. A cry that can’t be any more d esperate or any \\nmore clear.  \\nAnd now, a rise in political extremism, white supremacy, domestic terrorism that we must \\nconfront and we will defeat.  To overcome these challenges – to restore the soul and to secure the future of America – requires \\nmore than wo rds. \\nIt requires that most elusive of things in a democracy:  \\nUnity.  \\nUnity.  \\nIn another January in Washington, on New Year’s Day 1863, Abraham Lincoln signed the \\nEmancipation Proclamation.  \\nWhen he put pen to paper, the President said, “If my name ever goes d own into history it will be \\nfor this act and my whole soul is in it.”  \\nMy whole soul is in it.  \\nToday, on this January day, my whole soul is in this:  \\nBringing America together.  \\nUniting our people.  \\nAnd uniting our nation.  \\nI ask every American to join me in th is cause.  \\nUniting to fight the common foes we face:  \\nAnger, resentment, hatred.  \\nExtremism, lawlessness, violence.  \\nDisease, joblessness, hopelessness.  \\nWith unity we can do great things. Important things.  \\nWe can right wrongs.  \\nWe can put people to work in good  jobs.  \\nWe can teach our children in safe schools.  \\nWe can overcome this deadly virus.  We can reward work, rebuild the middle class, and make health car e \\nsecure for all.  \\nWe can deliver racial justice.  \\nWe can make America, once again, the leading force for good in the world.  \\nI know speaking of unity can sound to some like a foolish fantasy.  \\nI know the forces that divide us are deep and they are real.  \\nBut I also know they are not new.  \\nOur history has been  a constant struggle between the American ideal that we are all created equal \\nand the harsh, ugly reality that racism, nativism, fear, and demonization have long torn us apart.  \\nThe battle is perennial.  \\nVictory is never assured.  \\nThrough the Civil War, the G reat Depression, World War, 9/11, through struggle, sacrifice, and \\nsetbacks, our “better angels” have always prevailed.  \\nIn each of these moments, enough of us came together to carry all of us forward.  \\nAnd, we can do so now.  \\nHistory, faith, and reason show the way, the way of unity.  \\nWe can see each other not as adversaries but as neighbors.  \\nWe can treat each other with dignity and respect.  \\nWe can join forces, stop the shouting, and lower the temperature.  \\nFor without unity, there is no peace, only bitterness and fury.  \\nNo progress, only exhausting outrage.  \\nNo nation, only a state of chaos.  \\nThis is our historic moment of crisis and challenge, and unity is the path forward.  \\nAnd, we must meet this moment as the United States of America.  \\nIf we do that, I guarantee you, we will not fail.  We have never, ever, ever failed in America when we have acted together.  \\nAnd so today, at this time and in this place, let us start afresh.  \\nAll of us.  \\nLet us listen to one another.  \\nHear one another . \\nSee one another.  \\nShow respect to one another.  \\nPolitics need not be a raging fire destroying everything in its path.  \\nEvery disagreement doesn’t have to be a cause for total war.  \\nAnd, we must reject a culture in which facts themselves are manipulated and even manufactured.  \\nMy fellow Americans, we have to be different than this.  \\nAmerica has to be better than this.  \\nAnd, I believe America is better than this.  \\nJust look around.  \\nHere we stand, in the shadow of a Capitol dome that was completed amid the Civil War, when \\nthe Union it self hung in the balance.  \\nYet we endured and we prevailed.  \\nHere we stand looking out to the great Mall where Dr. King spoke of his dream.  \\nHere we stand, where 108 years ago at another inaugural, thousands of protestors tried to block \\nbrave women from march ing for the right to vote.  \\nToday, we mark the swearing -in of the first woman in American history elected to national office \\n– Vice President Kamala Harris.  \\nDon’t tell me things can’t change.  \\nHere we stand across the Potomac from Arlington National Cemetery , where heroes who gave \\nthe last full measure of devotion rest in eternal peace.  And here we stand, just days after a riotous mob thought they could use violence to silence the \\nwill of the people, to stop the work of our democracy, and to drive us from thi s sacred ground.  \\nThat did not happen.  \\nIt will never happen.  \\nNot today.  \\nNot tomorrow.  \\nNot ever.  \\nTo all those who supported our campaign I am humbled by the faith you have placed in us.  \\nTo all those who did not support us, let me say this: Hear me out as we move forward. Take a \\nmeasure of me and my heart.  \\nAnd if you still disagree, so be it.  \\nThat’s democracy. That’s America. The right to dissent peaceably, within the guardrails of our \\nRepublic, is perhaps our nation’s greatest strength.  \\nYet hear me clearly: D isagreement must not lead to disunion.  \\nAnd I pledge this to you: I will be a President for all Americans.  \\nI will fight as hard for those who did not support me as for those who did.  \\nMany centuries ago, Saint Augustine, a saint of my church, wrote that a people was a multitude \\ndefined by the common objects of their love.  \\nWhat are the common objects we love that define us as Americans?  \\nI think I know.  \\nOpportunity.  \\nSecurity.  \\nLiberty.  \\nDignity. \\nRespect.  Honor.  \\nAnd, yes, the truth.  \\nRecent weeks and months have taught us a painful lesson.  \\nThere is truth and there are lies.  \\nLies told for power and for profit.  \\nAnd each of us has a duty and responsibility, as citizens, as Americans, and especial ly as leaders \\n– leaders who have pledged to honor our Constitution and protect our nation — to defend the \\ntruth and to defeat the lies.  \\nI understand that many Americans view the future with some fear and trepidation.  \\nI understand they worry about their job s, about taking care of their families, about what comes \\nnext.  \\nI get it.  \\nBut the answer is not to turn inward, to retreat into competing factions, distrusting those who \\ndon’t look like you do, or worship the way you do, or don’t get their news from the sam e sources \\nyou do.  \\nWe must end this uncivil war that pits red against blue, rural versus urban, conservative versus \\nliberal.  \\nWe can do this if we open our souls instead of hardening our hearts.  \\nIf we show a little tolerance and humility.  \\nIf we’re willing to  stand in the other person’s shoes just for a moment . \\nBecause here is the thing about life: There is no accounting for what fate will deal you.  \\nThere are some days when we need a hand.  \\nThere are other days when we’re called on to lend one.  \\nThat is how we m ust be with one another.  \\nAnd, if we are this way, our country will be stronger, more prosperous, more ready for the future.  \\nMy fellow Americans, in the work ahead of us, we will need each other.  \\nWe will need all our strength to persevere through this dark winter.  We are entering what may well be the toughest and deadliest period of the virus.  \\nWe must set aside the politics and finally face this pandemic as one nation.  \\nI promise you this: as the Bi ble says weeping may endure for a night but joy cometh in the \\nmorning.  \\nWe will get through this, together  \\nThe world is watching today.  \\nSo here is my message to those beyond our borders: America has been tested and we have come \\nout stronger for it.  \\nWe will repair our alliances and engage with the world once again.  \\nNot to meet yesterday’s challenges, but today’s and tomorrow’s.  \\nWe will lead not merely by the example of our power but by the power of our example.  \\nWe will be a strong and trusted partner for peac e, progress, and security.  \\nWe have been through so much in this nation.  \\nAnd, in my first act as President, I would like to ask you to join me in a moment of silent prayer \\nto remember all those we lost this past year to the pandemic.  \\nTo those 400,000 fellow  Americans – mothers and fathers, husbands and wives, sons and \\ndaughters, friends, neighbors, and co -workers.  \\nWe will honor them by becoming the people and nation we know we can and should be.  \\nLet us say a silent prayer for those who lost their lives, for those they left behind, and for our \\ncountry.  \\nAmen.  \\nThis is a time of testing.  \\nWe face an attack on democracy and on truth.  \\nA raging virus.  \\nGrowing inequity.  \\nThe sting of systemic racism.  A climate in crisis.  \\nAmerica’s role in the world.  \\nAny one of these wo uld be enough to challenge us in profound ways.  \\nBut the fact is we face them all at once, presenting this nation with the gravest of responsibilities.  \\nNow we must step up.  \\nAll of us.  \\nIt is a time for boldness, for there is so much to do.  \\nAnd, this is certain.  \\nWe will be judged, you and I, for how we resolve the cascading crises of our era.  \\nWill we rise to the occasion?  \\nWill we master this rare and difficult hour?  \\nWill we meet our oblig ations and pass along a new and better world for our children?  \\nI believe we must and I believe we will.  \\nAnd when we do, we will write the next chapter in the American story.  \\nIt’s a story that might sound something like a song that means a lot to me.  \\nIt’s c alled “American Anthem” and there is one verse stands out for me:  \\n“The work and prayer s \\nof centuries have brought us to this da y \\nWhat shall be our legacy ? \\nWhat will our children say? … \\nLet me know in my hear t \\nWhen my days are throug h \\nAmeric a \\nAmeric a \\nI gave my best to you.”  \\nLet us add our own work and prayers to the unfolding story of our nation.  \\nIf we do this then when our days are through our children and our children’s children will say of \\nus they gave their best.  They did their duty.  \\nThey healed a broken land. \\nMy fellow Americans, I close today where I began, with a sacred oath.  \\nBefore God and all of you I give you my word.  \\nI will always level with you.  \\nI will defend the Constitution.  \\nI will defend our democracy.  \\nI will defend America.  \\nI will give my all i n your service thinking not of power, but of possibilities.  \\nNot of personal interest, but of the public good.  \\nAnd together, we shall write an American story of hope, not fear.  \\nOf unity, not division.  \\nOf light, not darkness.  \\nAn American story of decency and  dignity.  \\nOf love and of healing.  \\nOf greatness and of goodness.  \\nMay this be the story that guides us.  \\nThe story that inspires us.  \\nThe story that tells ages yet to come that we answered the call of history.  \\nWe met the moment.  \\nThat democracy and hope, truth and justice, did not die on our watch but thrived.  \\nThat our America secured liberty at home and stood once again as a beacon to th e world.  \\nThat is what we owe our forebearers, one another, and generations to follow.  \\nSo, with purpose and resolve we turn to the tasks of our time.  Sustained by faith.  \\nDriven by conviction.  \\nAnd, devoted to one another and to this country we love with all our hearts.  \\nMay God bless America and may God protect our troops.  \\nThank you, America.  \\n ']\n"
     ]
    }
   ],
   "source": [
    "print(pdf_texts)"
   ]
  },
  {
   "cell_type": "code",
   "execution_count": 25,
   "metadata": {},
   "outputs": [],
   "source": [
    "df = pd.DataFrame(pdf_texts, columns=['text'])"
   ]
  },
  {
   "cell_type": "code",
   "execution_count": 17,
   "metadata": {},
   "outputs": [],
   "source": [
    "#export as csv\n",
    "df.to_csv('data\\speeches\\presidents_speeches.csv', index=False)"
   ]
  },
  {
   "cell_type": "code",
   "execution_count": 18,
   "metadata": {},
   "outputs": [
    {
     "data": {
      "text/plain": [
       "(4, 1)"
      ]
     },
     "execution_count": 18,
     "metadata": {},
     "output_type": "execute_result"
    }
   ],
   "source": [
    "df.shape"
   ]
  },
  {
   "cell_type": "code",
   "execution_count": 19,
   "metadata": {},
   "outputs": [
    {
     "data": {
      "text/html": [
       "<div>\n",
       "<style scoped>\n",
       "    .dataframe tbody tr th:only-of-type {\n",
       "        vertical-align: middle;\n",
       "    }\n",
       "\n",
       "    .dataframe tbody tr th {\n",
       "        vertical-align: top;\n",
       "    }\n",
       "\n",
       "    .dataframe thead th {\n",
       "        text-align: right;\n",
       "    }\n",
       "</style>\n",
       "<table border=\"1\" class=\"dataframe\">\n",
       "  <thead>\n",
       "    <tr style=\"text-align: right;\">\n",
       "      <th></th>\n",
       "      <th>text</th>\n",
       "    </tr>\n",
       "  </thead>\n",
       "  <tbody>\n",
       "    <tr>\n",
       "      <th>0</th>\n",
       "      <td>Trump  \\n01/20/2017  \\nInaugural Address  \\nCh...</td>\n",
       "    </tr>\n",
       "    <tr>\n",
       "      <th>1</th>\n",
       "      <td>Obam a \\n01/20/2009  \\nInaugural Address  \\n \\...</td>\n",
       "    </tr>\n",
       "    <tr>\n",
       "      <th>2</th>\n",
       "      <td>Bush  \\n01/20/2001  \\nInaugural Address  \\n \\n...</td>\n",
       "    </tr>\n",
       "    <tr>\n",
       "      <th>3</th>\n",
       "      <td>Biden  \\n01/20/2021  \\nInaugural Address  \\nCh...</td>\n",
       "    </tr>\n",
       "  </tbody>\n",
       "</table>\n",
       "</div>"
      ],
      "text/plain": [
       "                                                text\n",
       "0  Trump  \\n01/20/2017  \\nInaugural Address  \\nCh...\n",
       "1  Obam a \\n01/20/2009  \\nInaugural Address  \\n \\...\n",
       "2  Bush  \\n01/20/2001  \\nInaugural Address  \\n \\n...\n",
       "3  Biden  \\n01/20/2021  \\nInaugural Address  \\nCh..."
      ]
     },
     "execution_count": 19,
     "metadata": {},
     "output_type": "execute_result"
    }
   ],
   "source": [
    "df = pd.read_csv('data\\speeches\\presidents_speeches.csv')\n",
    "df.head()"
   ]
  },
  {
   "cell_type": "code",
   "execution_count": 26,
   "metadata": {},
   "outputs": [],
   "source": [
    "def text_cleaner(text):\n",
    "    # Convert text to lowercase\n",
    "    text = text.lower()\n",
    "    text = re.sub('[\\r\\n|\\r\\n]+', '\\n', text)\n",
    "    text = re.sub(r'\\d+', '', text)\n",
    "    text = re.sub('’', '', text)\n",
    "    # Remove punctuation\n",
    "    text = text.translate(str.maketrans('', '', string.punctuation))\n",
    "    words = word_tokenize(text)\n",
    "    stop_words = set(stopwords.words('english'))\n",
    "    words = [word for word in words if word not in stop_words]\n",
    "    words = [lemmatizer.lemmatize(word) for word in words]\n",
    "    cleaned_text = ' '.join(words)\n",
    "\n",
    "    return cleaned_text"
   ]
  },
  {
   "cell_type": "code",
   "execution_count": 27,
   "metadata": {},
   "outputs": [],
   "source": [
    "df['clean_speech'] = df['text'].apply(text_cleaner)"
   ]
  },
  {
   "cell_type": "code",
   "execution_count": 28,
   "metadata": {},
   "outputs": [
    {
     "data": {
      "text/html": [
       "<div>\n",
       "<style scoped>\n",
       "    .dataframe tbody tr th:only-of-type {\n",
       "        vertical-align: middle;\n",
       "    }\n",
       "\n",
       "    .dataframe tbody tr th {\n",
       "        vertical-align: top;\n",
       "    }\n",
       "\n",
       "    .dataframe thead th {\n",
       "        text-align: right;\n",
       "    }\n",
       "</style>\n",
       "<table border=\"1\" class=\"dataframe\">\n",
       "  <thead>\n",
       "    <tr style=\"text-align: right;\">\n",
       "      <th></th>\n",
       "      <th>text</th>\n",
       "      <th>clean_speech</th>\n",
       "    </tr>\n",
       "  </thead>\n",
       "  <tbody>\n",
       "    <tr>\n",
       "      <th>0</th>\n",
       "      <td>Trump  \\n01/20/2017  \\nInaugural Address  \\nCh...</td>\n",
       "      <td>trump inaugural address chief justice robert p...</td>\n",
       "    </tr>\n",
       "    <tr>\n",
       "      <th>1</th>\n",
       "      <td>Obam a \\n01/20/2009  \\nInaugural Address  \\n \\...</td>\n",
       "      <td>obam inaugural address stand today humbled tas...</td>\n",
       "    </tr>\n",
       "    <tr>\n",
       "      <th>2</th>\n",
       "      <td>Bush  \\n01/20/2001  \\nInaugural Address  \\n \\n...</td>\n",
       "      <td>bush inaugural address president clinton disti...</td>\n",
       "    </tr>\n",
       "    <tr>\n",
       "      <th>3</th>\n",
       "      <td>Biden  \\n01/20/2021  \\nInaugural Address  \\nCh...</td>\n",
       "      <td>biden inaugural address chief justice robert v...</td>\n",
       "    </tr>\n",
       "  </tbody>\n",
       "</table>\n",
       "</div>"
      ],
      "text/plain": [
       "                                                text  \\\n",
       "0  Trump  \\n01/20/2017  \\nInaugural Address  \\nCh...   \n",
       "1  Obam a \\n01/20/2009  \\nInaugural Address  \\n \\...   \n",
       "2  Bush  \\n01/20/2001  \\nInaugural Address  \\n \\n...   \n",
       "3  Biden  \\n01/20/2021  \\nInaugural Address  \\nCh...   \n",
       "\n",
       "                                        clean_speech  \n",
       "0  trump inaugural address chief justice robert p...  \n",
       "1  obam inaugural address stand today humbled tas...  \n",
       "2  bush inaugural address president clinton disti...  \n",
       "3  biden inaugural address chief justice robert v...  "
      ]
     },
     "execution_count": 28,
     "metadata": {},
     "output_type": "execute_result"
    }
   ],
   "source": [
    "df"
   ]
  },
  {
   "cell_type": "code",
   "execution_count": null,
   "metadata": {},
   "outputs": [],
   "source": []
  }
 ],
 "metadata": {
  "kernelspec": {
   "display_name": "base",
   "language": "python",
   "name": "python3"
  },
  "language_info": {
   "codemirror_mode": {
    "name": "ipython",
    "version": 3
   },
   "file_extension": ".py",
   "mimetype": "text/x-python",
   "name": "python",
   "nbconvert_exporter": "python",
   "pygments_lexer": "ipython3",
   "version": "3.11.4"
  }
 },
 "nbformat": 4,
 "nbformat_minor": 2
}
